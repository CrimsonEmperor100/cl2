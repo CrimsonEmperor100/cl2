{
 "cells": [
  {
   "cell_type": "markdown",
   "metadata": {
    "id": "f6dILJPPm1XA"
   },
   "source": [
    "# IR 1: Write a program for pre-processing of a text document such as stop word removal, stemming. "
   ]
  },
  {
   "cell_type": "code",
   "execution_count": 1,
   "metadata": {
    "executionInfo": {
     "elapsed": 2721,
     "status": "ok",
     "timestamp": 1712981452347,
     "user": {
      "displayName": "Riya Jain",
      "userId": "05653870576225209853"
     },
     "user_tz": -330
    },
    "id": "Jw1p0dnvBkmy"
   },
   "outputs": [],
   "source": [
    "import nltk\n",
    "from nltk import word_tokenize, sent_tokenize\n",
    "from nltk.corpus import stopwords\n",
    "from nltk.stem import SnowballStemmer\n",
    "from  nltk.stem import WordNetLemmatizer\n",
    "from sklearn.feature_extraction.text import TfidfVectorizer"
   ]
  },
  {
   "cell_type": "code",
   "execution_count": 2,
   "metadata": {
    "colab": {
     "base_uri": "https://localhost:8080/"
    },
    "executionInfo": {
     "elapsed": 653,
     "status": "ok",
     "timestamp": 1712981681246,
     "user": {
      "displayName": "Riya Jain",
      "userId": "05653870576225209853"
     },
     "user_tz": -330
    },
    "id": "L5Rxk5fXBqe3",
    "outputId": "8bb24816-eaf0-4b20-a068-103d4ecb3f70"
   },
   "outputs": [
    {
     "name": "stdout",
     "output_type": "stream",
     "text": [
      "['he', 'quick', 'brown', 'fox', 'jumps', 'over', 'the', 'lazy', 'dog', 'While', 'the', 'dog', 'sleeps', 'the', 'fox', 'quickly', 'runs', 'to', 'the', 'nearby', 'forest']\n",
      "['he quick brown fox jumps over the lazy dog While the dog sleeps the fox quickly runs to the nearby forest']\n"
     ]
    },
    {
     "name": "stderr",
     "output_type": "stream",
     "text": [
      "[nltk_data] Downloading package punkt to\n",
      "[nltk_data]     C:\\Users\\91862\\AppData\\Roaming\\nltk_data...\n",
      "[nltk_data]   Package punkt is already up-to-date!\n"
     ]
    }
   ],
   "source": [
    "sentence = \"he quick brown fox jumps over the lazy dog While the dog sleeps the fox quickly runs to the nearby forest\"\n",
    "\n",
    "#Tokenization\n",
    "nltk.download('punkt')\n",
    "tokenized_words = word_tokenize(sentence)\n",
    "tokenized_sentences = sent_tokenize(sentence)\n",
    "\n",
    "print(tokenized_words)\n",
    "print(tokenized_sentences)"
   ]
  },
  {
   "cell_type": "code",
   "execution_count": 3,
   "metadata": {
    "colab": {
     "base_uri": "https://localhost:8080/"
    },
    "executionInfo": {
     "elapsed": 350,
     "status": "ok",
     "timestamp": 1712981683338,
     "user": {
      "displayName": "Riya Jain",
      "userId": "05653870576225209853"
     },
     "user_tz": -330
    },
    "id": "aFOa2ViiC9iU",
    "outputId": "0d06dfe6-6566-43a0-9964-a8386690c10a"
   },
   "outputs": [
    {
     "name": "stdout",
     "output_type": "stream",
     "text": [
      "Unclean version  ['he', 'quick', 'brown', 'fox', 'jumps', 'over', 'the', 'lazy', 'dog', 'While', 'the', 'dog', 'sleeps', 'the', 'fox', 'quickly', 'runs', 'to', 'the', 'nearby', 'forest']\n",
      "Clean Version ['quick', 'brown', 'fox', 'jumps', 'lazy', 'dog', 'While', 'dog', 'sleeps', 'fox', 'quickly', 'runs', 'nearby', 'forest']\n"
     ]
    },
    {
     "name": "stderr",
     "output_type": "stream",
     "text": [
      "[nltk_data] Downloading package stopwords to\n",
      "[nltk_data]     C:\\Users\\91862\\AppData\\Roaming\\nltk_data...\n",
      "[nltk_data]   Package stopwords is already up-to-date!\n"
     ]
    }
   ],
   "source": [
    "#Stop words removal\n",
    "nltk.download('stopwords')\n",
    "stop_words = stopwords.words('english')\n",
    "\n",
    "cleaned_token = []\n",
    "for i in tokenized_words:\n",
    "  if i not in stop_words:\n",
    "    cleaned_token.append(i)\n",
    "\n",
    "print(\"Unclean version \", tokenized_words)\n",
    "print(\"Clean Version\", cleaned_token)"
   ]
  },
  {
   "cell_type": "code",
   "execution_count": 4,
   "metadata": {
    "colab": {
     "base_uri": "https://localhost:8080/"
    },
    "executionInfo": {
     "elapsed": 365,
     "status": "ok",
     "timestamp": 1712981687423,
     "user": {
      "displayName": "Riya Jain",
      "userId": "05653870576225209853"
     },
     "user_tz": -330
    },
    "id": "_UFln4zoOQf8",
    "outputId": "2b2be4d1-4726-4c28-adfc-a5942014909a"
   },
   "outputs": [
    {
     "name": "stdout",
     "output_type": "stream",
     "text": [
      "['he', 'quick', 'brown', 'fox', 'jump', 'over', 'the', 'lazi', 'dog', 'while', 'the', 'dog', 'sleep', 'the', 'fox', 'quick', 'run', 'to', 'the', 'nearbi', 'forest']\n"
     ]
    }
   ],
   "source": [
    "#Stemming\n",
    "snowball_stemmer = SnowballStemmer('english')\n",
    "\n",
    "stemmed_words = []\n",
    "for i in tokenized_words:\n",
    "    stemmed = snowball_stemmer.stem(i)\n",
    "    stemmed_words.append(stemmed)\n",
    "\n",
    "print(stemmed_words)"
   ]
  },
  {
   "cell_type": "code",
   "execution_count": 5,
   "metadata": {
    "colab": {
     "base_uri": "https://localhost:8080/"
    },
    "executionInfo": {
     "elapsed": 2445,
     "status": "ok",
     "timestamp": 1712981708744,
     "user": {
      "displayName": "Riya Jain",
      "userId": "05653870576225209853"
     },
     "user_tz": -330
    },
    "id": "XKbYLwAbq4zl",
    "outputId": "69ed31e6-d2ae-4ce4-ad0c-7d0a8f4bb94a"
   },
   "outputs": [
    {
     "name": "stderr",
     "output_type": "stream",
     "text": [
      "[nltk_data] Downloading package wordnet to\n",
      "[nltk_data]     C:\\Users\\91862\\AppData\\Roaming\\nltk_data...\n",
      "[nltk_data]   Package wordnet is already up-to-date!\n",
      "[nltk_data] Downloading package omw-1.4 to\n",
      "[nltk_data]     C:\\Users\\91862\\AppData\\Roaming\\nltk_data...\n",
      "[nltk_data]   Package omw-1.4 is already up-to-date!\n"
     ]
    },
    {
     "name": "stdout",
     "output_type": "stream",
     "text": [
      "['he', 'quick', 'brown', 'fox', 'jump', 'over', 'the', 'lazy', 'dog', 'While', 'the', 'dog', 'sleep', 'the', 'fox', 'quickly', 'run', 'to', 'the', 'nearby', 'forest']\n"
     ]
    }
   ],
   "source": [
    "#Lemmatization\n",
    "nltk.download('wordnet')\n",
    "nltk.download('omw-1.4')\n",
    "\n",
    "wordnet_lemmatizer = WordNetLemmatizer()\n",
    "\n",
    "lemmatized_words = []\n",
    "for i in tokenized_words:\n",
    "    lemmatized = wordnet_lemmatizer.lemmatize(i)\n",
    "    lemmatized_words.append(lemmatized)\n",
    "\n",
    "print(lemmatized_words)"
   ]
  },
  {
   "cell_type": "code",
   "execution_count": 6,
   "metadata": {
    "colab": {
     "base_uri": "https://localhost:8080/"
    },
    "executionInfo": {
     "elapsed": 994,
     "status": "ok",
     "timestamp": 1712981714301,
     "user": {
      "displayName": "Riya Jain",
      "userId": "05653870576225209853"
     },
     "user_tz": -330
    },
    "id": "6ei5-kNvrFrZ",
    "outputId": "8819f2c1-524d-42a9-e26a-60a192034a2a"
   },
   "outputs": [
    {
     "name": "stderr",
     "output_type": "stream",
     "text": [
      "[nltk_data] Downloading package averaged_perceptron_tagger to\n",
      "[nltk_data]     C:\\Users\\91862\\AppData\\Roaming\\nltk_data...\n",
      "[nltk_data]   Package averaged_perceptron_tagger is already up-to-\n",
      "[nltk_data]       date!\n"
     ]
    },
    {
     "name": "stdout",
     "output_type": "stream",
     "text": [
      "[('he', 'PRP'), ('quick', 'MD'), ('brown', 'VB'), ('fox', 'JJ'), ('jumps', 'NNS'), ('over', 'IN'), ('the', 'DT'), ('lazy', 'JJ'), ('dog', 'NN'), ('While', 'IN'), ('the', 'DT'), ('dog', 'NN'), ('sleeps', 'VBZ'), ('the', 'DT'), ('fox', 'JJ'), ('quickly', 'RB'), ('runs', 'VBZ'), ('to', 'TO'), ('the', 'DT'), ('nearby', 'JJ'), ('forest', 'NN')]\n"
     ]
    }
   ],
   "source": [
    "#Pos Tagging\n",
    "# dt - determinnant\n",
    "# NN - noun\n",
    "# In - prep / conjunc\n",
    "nltk.download('averaged_perceptron_tagger')\n",
    "pos_tag = nltk.pos_tag(tokenized_words)\n",
    "\n",
    "print(pos_tag)"
   ]
  },
  {
   "cell_type": "code",
   "execution_count": null,
   "metadata": {},
   "outputs": [],
   "source": []
  },
  {
   "cell_type": "code",
   "execution_count": null,
   "metadata": {},
   "outputs": [],
   "source": []
  },
  {
   "cell_type": "markdown",
   "metadata": {},
   "source": [
    "# IR 2: Implement a program for retrieval of documents using inverted files.\n"
   ]
  },
  {
   "cell_type": "code",
   "execution_count": 7,
   "metadata": {},
   "outputs": [],
   "source": [
    "# Sample documents\n",
    "documents = {\n",
    "    \"doc1\": \"This is a sample document about machine learning.\",\n",
    "    \"doc2\": \"Machine learning is a subset of artificial intelligence.\",\n",
    "    \"doc3\": \"Artificial intelligence and data science are evolving fields.\"\n",
    "}"
   ]
  },
  {
   "cell_type": "code",
   "execution_count": 8,
   "metadata": {},
   "outputs": [],
   "source": [
    "# Step 1: Create an inverted index\n",
    "inverted_index = {}"
   ]
  },
  {
   "cell_type": "code",
   "execution_count": 9,
   "metadata": {},
   "outputs": [],
   "source": [
    "# Populate the inverted index\n",
    "for doc_id, text in documents.items():\n",
    "    words = text.lower().split()\n",
    "    for i in range(len(words)):\n",
    "        # Single word\n",
    "        w = words[i].strip(\".,!?\")\n",
    "        inverted_index.setdefault(w, []).append(doc_id)\n",
    "\n",
    "        # Two-word phrases\n",
    "        if i + 1 < len(words):\n",
    "            phrase = f\"{w} {words[i + 1].strip('.,!?')}\"\n",
    "            inverted_index.setdefault(phrase, []).append(doc_id)"
   ]
  },
  {
   "cell_type": "code",
   "execution_count": 10,
   "metadata": {},
   "outputs": [],
   "source": [
    "# Remove duplicate document entries\n",
    "for term in inverted_index:\n",
    "    inverted_index[term] = list(set(inverted_index[term]))"
   ]
  },
  {
   "cell_type": "code",
   "execution_count": 11,
   "metadata": {},
   "outputs": [],
   "source": [
    "# Step 2: Search function\n",
    "def search(term):\n",
    "    term = term.lower()\n",
    "    if term in inverted_index:\n",
    "        results = inverted_index[term]\n",
    "        print(f\"Documents containing '{term}': {', '.join(results)}\")\n",
    "    else:\n",
    "        print(\"No results found.\")"
   ]
  },
  {
   "cell_type": "code",
   "execution_count": 12,
   "metadata": {},
   "outputs": [
    {
     "name": "stdout",
     "output_type": "stream",
     "text": [
      "Available documents:\n",
      "doc1: This is a sample document about machine learning.\n",
      "doc2: Machine learning is a subset of artificial intelligence.\n",
      "doc3: Artificial intelligence and data science are evolving fields.\n"
     ]
    }
   ],
   "source": [
    "# Display documents and allow user to search\n",
    "print(\"Available documents:\")\n",
    "for doc_id, text in documents.items():\n",
    "    print(f\"{doc_id}: {text}\")"
   ]
  },
  {
   "cell_type": "code",
   "execution_count": 13,
   "metadata": {},
   "outputs": [
    {
     "name": "stdout",
     "output_type": "stream",
     "text": [
      "\n",
      "Search for a term in the documents.\n",
      "Enter a term to search: Machine\n",
      "Documents containing 'machine': doc2, doc1\n"
     ]
    }
   ],
   "source": [
    "print(\"\\nSearch for a term in the documents.\")\n",
    "search_term = input(\"Enter a term to search: \")\n",
    "search(search_term)"
   ]
  },
  {
   "cell_type": "code",
   "execution_count": null,
   "metadata": {},
   "outputs": [],
   "source": []
  },
  {
   "cell_type": "code",
   "execution_count": null,
   "metadata": {},
   "outputs": [],
   "source": []
  },
  {
   "cell_type": "markdown",
   "metadata": {},
   "source": [
    "# IR 4: Implement Page Rank Algorithm using python. "
   ]
  },
  {
   "cell_type": "code",
   "execution_count": 14,
   "metadata": {},
   "outputs": [],
   "source": [
    "import numpy as np\n",
    "\n",
    "def pagerank(graph, d=0.85, num_iterations=100):\n",
    "    # Initialize the rank vector with equal probability for each node\n",
    "    num_nodes = len(graph)\n",
    "    rank = np.ones(num_nodes) / num_nodes  # Start with uniform distribution\n",
    "    \n",
    "    # Transition matrix: each row represents the probability of transitioning to each node\n",
    "    transition_matrix = np.zeros((num_nodes, num_nodes))\n",
    "    \n",
    "    for i, edges in graph.items():\n",
    "        if len(edges) == 0:\n",
    "            continue  # Skip nodes with no outgoing edges\n",
    "        \n",
    "        probability = 1.0 / len(edges)\n",
    "        for neighbor in edges:\n",
    "            transition_matrix[neighbor, i] = probability\n",
    "\n",
    "    # Apply the power iteration method to compute the PageRank\n",
    "    for _ in range(num_iterations):\n",
    "        rank = (1 - d) / num_nodes + d * np.dot(transition_matrix, rank)\n",
    "    \n",
    "    # Normalize the PageRank values so that they sum to 1\n",
    "    rank_sum = np.sum(rank)\n",
    "    normalized_rank = rank / rank_sum\n",
    "    \n",
    "    return normalized_rank"
   ]
  },
  {
   "cell_type": "code",
   "execution_count": 15,
   "metadata": {},
   "outputs": [
    {
     "name": "stdout",
     "output_type": "stream",
     "text": [
      "PageRank values: [0.38778971 0.21481063 0.39739966]\n"
     ]
    }
   ],
   "source": [
    "# Define the graph as an adjacency list\n",
    "# Example: \n",
    "# Node 0 has outgoing edges to node 1 and node 2\n",
    "# Node 1 has an outgoing edge to node 2\n",
    "# Node 2 has an outgoing edge to node 0\n",
    "graph = {\n",
    "    0: [1, 2],\n",
    "    1: [2],\n",
    "    2: [0]\n",
    "}\n",
    "\n",
    "# Calculate the PageRank values\n",
    "pagerank_values = pagerank(graph)\n",
    "\n",
    "# Print the PageRank values (normalized)\n",
    "print(\"PageRank values:\", pagerank_values)"
   ]
  },
  {
   "cell_type": "code",
   "execution_count": null,
   "metadata": {},
   "outputs": [],
   "source": []
  },
  {
   "cell_type": "code",
   "execution_count": null,
   "metadata": {},
   "outputs": [],
   "source": []
  },
  {
   "cell_type": "markdown",
   "metadata": {},
   "source": [
    "# IR 5: Implement Agglomerative hierarchical clustering algorithm using appropriate dataset"
   ]
  },
  {
   "cell_type": "code",
   "execution_count": 16,
   "metadata": {},
   "outputs": [],
   "source": [
    "import numpy as np\n",
    "import pandas as pd\n",
    "from sklearn.datasets import load_wine\n",
    "from sklearn.cluster import AgglomerativeClustering\n",
    "from sklearn.preprocessing import StandardScaler\n",
    "import matplotlib.pyplot as plt\n",
    "from scipy.cluster.hierarchy import dendrogram, linkage"
   ]
  },
  {
   "cell_type": "code",
   "execution_count": 17,
   "metadata": {},
   "outputs": [],
   "source": [
    "# Load the wine dataset\n",
    "wine = load_wine()\n",
    "X = wine.data\n",
    "y = wine.target\n",
    "feature_names = wine.feature_names"
   ]
  },
  {
   "cell_type": "code",
   "execution_count": 18,
   "metadata": {},
   "outputs": [],
   "source": [
    "# Create a DataFrame\n",
    "df = pd.DataFrame(X, columns=feature_names)\n",
    "df['target'] = y"
   ]
  },
  {
   "cell_type": "code",
   "execution_count": 19,
   "metadata": {},
   "outputs": [],
   "source": [
    "# Standardize the features\n",
    "scaler = StandardScaler()\n",
    "X_scaled = scaler.fit_transform(df[feature_names])"
   ]
  },
  {
   "cell_type": "code",
   "execution_count": 20,
   "metadata": {},
   "outputs": [],
   "source": [
    "# Perform Agglomerative Hierarchical Clustering\n",
    "model = AgglomerativeClustering(n_clusters=3, linkage='ward')\n",
    "labels = model.fit_predict(X_scaled)"
   ]
  },
  {
   "cell_type": "code",
   "execution_count": 21,
   "metadata": {},
   "outputs": [],
   "source": [
    "# Compute the linkage matrix\n",
    "linkage_matrix = linkage(X_scaled, method='ward')"
   ]
  },
  {
   "cell_type": "code",
   "execution_count": 22,
   "metadata": {},
   "outputs": [
    {
     "data": {
      "image/png": "[encoded data removed]",
      "text/plain": [
       "<Figure size 1200x600 with 1 Axes>"
      ]
     },
     "metadata": {},
     "output_type": "display_data"
    }
   ],
   "source": [
    "# Plot the dendrogram\n",
    "plt.figure(figsize=(12, 6))\n",
    "dendrogram(linkage_matrix)\n",
    "plt.title('Dendrogram')\n",
    "plt.xlabel('Samples')\n",
    "plt.ylabel('Distance')\n",
    "plt.show()"
   ]
  },
  {
   "cell_type": "code",
   "execution_count": 23,
   "metadata": {},
   "outputs": [
    {
     "data": {
      "image/png": "[encoded data removed]",
      "text/plain": [
       "<Figure size 800x600 with 1 Axes>"
      ]
     },
     "metadata": {},
     "output_type": "display_data"
    }
   ],
   "source": [
    "# Plot the clusters\n",
    "plt.figure(figsize=(8, 6))\n",
    "plt.scatter(X_scaled[:, 0], X_scaled[:, 1], c=labels, cmap='viridis')\n",
    "plt.title('Agglomerative Hierarchical Clustering - Wine Dataset')\n",
    "plt.xlabel('Feature 1')\n",
    "plt.ylabel('Feature 2')\n",
    "plt.show()"
   ]
  },
  {
   "cell_type": "code",
   "execution_count": 24,
   "metadata": {},
   "outputs": [
    {
     "name": "stdout",
     "output_type": "stream",
     "text": [
      "Cluster Labels:\n",
      "[2 2 2 2 2 2 2 2 2 2 2 2 2 2 2 2 2 2 2 2 2 2 2 2 2 2 2 2 2 2 2 2 2 2 2 2 2\n",
      " 2 2 2 2 2 2 2 2 2 2 2 2 2 2 2 2 2 2 2 2 2 2 0 1 1 0 0 0 2 2 0 1 0 1 2 0 2\n",
      " 0 0 0 1 0 0 0 0 0 1 0 0 0 0 0 0 0 0 0 0 0 0 1 0 0 0 0 0 0 0 0 0 0 0 0 0 0\n",
      " 0 0 0 0 0 0 0 1 0 0 2 0 0 0 0 0 0 0 0 1 1 1 1 1 1 1 1 1 1 1 1 1 1 1 1 1 1\n",
      " 1 1 1 1 1 1 1 1 1 1 1 1 1 1 1 1 1 1 1 1 1 1 1 1 1 1 1 1 1 1]\n",
      "\n",
      "Target Values:\n",
      "0      0\n",
      "1      0\n",
      "2      0\n",
      "3      0\n",
      "4      0\n",
      "      ..\n",
      "173    2\n",
      "174    2\n",
      "175    2\n",
      "176    2\n",
      "177    2\n",
      "Name: target, Length: 178, dtype: int32\n"
     ]
    }
   ],
   "source": [
    "# Print cluster labels and target values\n",
    "print(\"Cluster Labels:\")\n",
    "print(labels)\n",
    "print(\"\\nTarget Values:\")\n",
    "print(df['target'])"
   ]
  },
  {
   "cell_type": "code",
   "execution_count": null,
   "metadata": {},
   "outputs": [],
   "source": []
  },
  {
   "cell_type": "code",
   "execution_count": null,
   "metadata": {},
   "outputs": [],
   "source": []
  }
 ],
 "metadata": {
  "colab": {
   "provenance": []
  },
  "kernelspec": {
   "display_name": "Python 3 (ipykernel)",
   "language": "python",
   "name": "python3"
  },
  "language_info": {
   "codemirror_mode": {
    "name": "ipython",
    "version": 3
   },
   "file_extension": ".py",
   "mimetype": "text/x-python",
   "name": "python",
   "nbconvert_exporter": "python",
   "pygments_lexer": "ipython3",
   "version": "3.10.9"
  }
 },
 "nbformat": 4,
 "nbformat_minor": 1
}
